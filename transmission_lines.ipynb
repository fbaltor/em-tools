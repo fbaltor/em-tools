{
 "cells": [
  {
   "cell_type": "code",
   "execution_count": 70,
   "id": "254a42c2-e90d-49c4-a683-64503e7a01a6",
   "metadata": {},
   "outputs": [],
   "source": [
    "import matplotlib as mpl\n",
    "import matplotlib.pyplot as plt\n",
    "import numpy as np\n",
    "from numbers import Number\n",
    "import math, cmath"
   ]
  },
  {
   "cell_type": "code",
   "execution_count": 115,
   "id": "3ed0b20c-b062-4bf9-b58c-7f66505f74b0",
   "metadata": {},
   "outputs": [],
   "source": [
    "def zin_lossless(z0: Number, zl: Number, beta: Number, l: Number) -> Number:\n",
    "    tg = cmath.tan(beta * l)\n",
    "    num = z0 * (zl + 1j*z0*tg)\n",
    "    den = z0 + 1j*zl*tg\n",
    "    return num/den\n",
    "\n",
    "def zin_lossless(z0: Number, zl: Number, beta_times_l: Number) -> Number:\n",
    "    tg = cmath.tan(beta_times_l)\n",
    "    num = z0 * (zl + 1j*z0*tg)\n",
    "    den = z0 + 1j*zl*tg\n",
    "    return num/den\n",
    "\n",
    "def V_lossless(V0: Number, reflection_coefficient: Number, beta: Number, z: Number):\n",
    "    V = V0*(cmath.exp(-1j*beta*z) + reflection_coefficient*cmath.exp(1j*beta*z))\n",
    "    return V\n",
    "\n",
    "def I_lossless(V0: Number, Z0: Number, reflection_coefficient: Number, beta: Number, z: Number):\n",
    "    I = (V0/Z0)*(cmath.exp(-1j*beta*z) - reflection_coefficient*cmath.exp(1j*beta*z))\n",
    "    return I\n",
    "\n",
    "def reflection_coefficient_(z0: Number, zl: Number) -> Number:\n",
    "    num = zl - z0\n",
    "    den = zl + z0\n",
    "    return num/den\n",
    "\n",
    "def swr_(reflection_coefficient):\n",
    "    return (1 + abs(reflection_coefficient))/(1 - abs(reflection_coefficient))\n",
    "\n",
    "def propagation_constant_(R, L, G, C, w):\n",
    "    term_1 = R + 1j*w*L\n",
    "    term_2 = G + 1j*w*C\n",
    "    return cmath.sqrt(term_1*term_2)\n",
    "\n",
    "def impedance_(R, L, G, C, w):\n",
    "    a = R + 1j*w*L\n",
    "    b = G + 1j*w*C\n",
    "    return cmath.sqrt(a/b)\n",
    "\n",
    "def atenuation(alpha, l, in_db = False):\n",
    "    value = math.exp(-1 * alpha * l)\n",
    "    if in_db:\n",
    "        return -2 * math.log10(value)\n",
    "\n",
    "    return value\n",
    "\n",
    "def unit_to_db(value):\n",
    "    return 20 * math.log10(value)\n",
    "\n",
    "def display_complex(z):\n",
    "    msg = (f'z = {z.real}+{z.imag}j in rectangular coordinates \\n'\n",
    "           f'or z = {abs(z)}*e^{cmath.phase(z)}j in polar coordinates')\n",
    "    print(msg)\n",
    "    "
   ]
  },
  {
   "cell_type": "code",
   "execution_count": 103,
   "id": "57da1a79-e12d-445e-ae27-efd44c4c1b81",
   "metadata": {},
   "outputs": [
    {
     "name": "stdout",
     "output_type": "stream",
     "text": [
      "gama: (0.5391135357553036+8.01315439789067j)\n",
      "atenuation after 0.3 m is 0.14048042021872792 dB\n"
     ]
    }
   ],
   "source": [
    "R1 = 4\n",
    "L1 = 0.5 * 1e-6\n",
    "G1 = 0.02\n",
    "C1 = 200 * 1e-12\n",
    "w1 = 800 * 1e6\n",
    "\n",
    "gama1 = propagation_constant_(R1, L1, G1, C1, w1)\n",
    "alpha1 = gama1.real\n",
    "\n",
    "l1 = 0.3\n",
    "atenuation1 = atenuation(alpha1, l1)\n",
    "atenuation1_db = atenuation(alpha1, l1, True)\n",
    "print(\"gama: \" + str(gama1))\n",
    "print(f'atenuation after {l1} m is {atenuation1_db} dB')"
   ]
  },
  {
   "cell_type": "code",
   "execution_count": 96,
   "id": "95b10ef7-165b-46c7-bc6b-26334d075444",
   "metadata": {},
   "outputs": [
    {
     "name": "stdout",
     "output_type": "stream",
     "text": [
      "(0.22591621095124334+3.873117366459551j)\n",
      "z = 0.22591621095124334+3.873117366459551j in rectangular coordinates \n",
      "or z = 3.879700538539171*e^1.5125330470460134j in polar coordinates\n",
      "(25.806494118515268+0.21432486822606223j)\n",
      "3.872983346207417j\n",
      "(25.819888974716115+0j)\n"
     ]
    }
   ],
   "source": [
    "# Lista 1\n",
    "\n",
    "# 2.2 (Pozar 3 ed.)\n",
    "L = 0.2*1e-6\n",
    "C = 300*1e-12\n",
    "R = 5\n",
    "G = 0.01 \n",
    "w = 500*1e6\n",
    "\n",
    "pc_lossy = propagation_constant_(R, L, G, C, w)\n",
    "ch_impedance_lossy = impedance_(R, L, G, C, w)\n",
    "print(pc_lossy)\n",
    "display_complex(pc_lossy)\n",
    "print(ch_impedance_lossy)\n",
    "\n",
    "pc_lossless = propagation_constant_(0, L, 0, C, w)\n",
    "ch_impedance_lossless = impedance_(0, L, 0, C, w)\n",
    "print(pc_lossless)\n",
    "print(ch_impedance_lossless)"
   ]
  },
  {
   "cell_type": "code",
   "execution_count": 97,
   "id": "dea039f6-c542-4206-9ce6-f76c656995ca",
   "metadata": {},
   "outputs": [
    {
     "name": "stdout",
     "output_type": "stream",
     "text": [
      "Rs=0.008240996067111548\n",
      "L=2.39913502171604e-07 C=9.646239181115444e-11 R=1.8756165388694308 G=0.0002424364331692984\n",
      "Z=(49.87104220166847-0.02105193129526322j) propagation_constant=(0.024849945426179916+30.22638887076501j)\n"
     ]
    }
   ],
   "source": [
    "# 2.6\n",
    "def L_coax(permeability, b, a):\n",
    "    return (permeability*math.log(b/a))/ (2*math.pi)\n",
    "\n",
    "def C_coax(permittivity_real, b, a):\n",
    "    return (2*math.pi*permittivity_real)/math.log(b/a)\n",
    "\n",
    "def Rs(w, condutivity, permeability):\n",
    "    return math.sqrt((w*permeability)/(2*condutivity))\n",
    "\n",
    "def R_coax(Rs, b, a):\n",
    "    return (Rs/(2*math.pi))*((1/a) + (1/b))\n",
    "\n",
    "def G_coax(w, permittivity_imag, b, a):\n",
    "    return (2*math.pi*w*permittivity_imag)/math.log(b/a)\n",
    "\n",
    "# Vacuum constants\n",
    "permeability = 4*math.pi*1e-7\n",
    "permittivity = 8.854*1e-12\n",
    "\n",
    "# Frequency\n",
    "f = 1*1e9 # 1GHz\n",
    "w = 2*math.pi*f\n",
    "\n",
    "# Dimensions\n",
    "b = 3.02*1e-3 # outer radius\n",
    "a = 0.91*1e-3 # inner radius\n",
    "\n",
    "# Conductor is Copper:\n",
    "condutivity_copper = 5.813*1e7\n",
    "permeability_copper = permeability\n",
    "Rs_copper = Rs(w, condutivity_copper, permeability_copper)\n",
    "print(f'Rs={Rs_copper}')\n",
    "\n",
    "# Dieletric is Teflon\n",
    "permittivity_relative_teflon = 2.08\n",
    "loss_tan_teflon = 4*1e-4\n",
    "permittivity_real_teflon = permittivity_relative_teflon * permittivity\n",
    "permittivity_imag_teflon = loss_tan_teflon * permittivity_real_teflon\n",
    "\n",
    "L = L_coax(permeability_copper, b, a)\n",
    "C = C_coax(permittivity_real_teflon, b, a)\n",
    "R = R_coax(Rs_copper, b, a)\n",
    "G = G_coax(w, permittivity_imag_teflon, b, a)\n",
    "print(f'L={L} C={C} R={R} G={G}')\n",
    "\n",
    "impedance = impedance_(R, L, G, C, w)\n",
    "propagation_constant = propagation_constant_(R, L, G, C, w)\n",
    "print(f'Z={impedance} propagation_constant={propagation_constant}')"
   ]
  },
  {
   "cell_type": "code",
   "execution_count": 124,
   "id": "bc02deba-923f-4b17-b1de-b5e5b9a2a4b3",
   "metadata": {},
   "outputs": [
    {
     "name": "stdout",
     "output_type": "stream",
     "text": [
      "(0.4607101359007234, -2.5351468187057935)\n",
      "2.7085807339257255\n",
      "(0.4607101359007234, 1.2347643656019582)\n",
      "(202.9897237775293-5.192938734670089j)\n"
     ]
    }
   ],
   "source": [
    "# 2.8\n",
    "\n",
    "z0 = 75\n",
    "zl = 30 - 1j*20\n",
    "\n",
    "reflection_coefficient = reflection_coefficient_(z0, zl)\n",
    "print(cmath.polar(reflection_coefficient))\n",
    "\n",
    "swr = swr_(reflection_coefficient)\n",
    "print(swr)\n",
    "\n",
    "reflection_coefficient_at_input = reflection_coefficient * cmath.exp(1.2*cmath.pi*1j)\n",
    "print(cmath.polar(reflection_coefficient_at_input))\n",
    "\n",
    "beta_times_l = 0.6*cmath.pi\n",
    "zin = zin_lossless(z0, zl, beta_times_l)\n",
    "print(zin)"
   ]
  },
  {
   "cell_type": "code",
   "execution_count": null,
   "id": "4d256d07-47d9-406d-a681-db495da50cbc",
   "metadata": {},
   "outputs": [],
   "source": []
  }
 ],
 "metadata": {
  "kernelspec": {
   "display_name": "Python 3 (ipykernel)",
   "language": "python",
   "name": "python3"
  },
  "language_info": {
   "codemirror_mode": {
    "name": "ipython",
    "version": 3
   },
   "file_extension": ".py",
   "mimetype": "text/x-python",
   "name": "python",
   "nbconvert_exporter": "python",
   "pygments_lexer": "ipython3",
   "version": "3.10.12"
  }
 },
 "nbformat": 4,
 "nbformat_minor": 5
}
