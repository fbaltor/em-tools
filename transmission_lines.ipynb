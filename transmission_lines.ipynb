{
 "cells": [
  {
   "cell_type": "code",
   "execution_count": 3,
   "id": "254a42c2-e90d-49c4-a683-64503e7a01a6",
   "metadata": {},
   "outputs": [],
   "source": [
    "import matplotlib as mpl\n",
    "import matplotlib.pyplot as plt\n",
    "import numpy as np\n",
    "from numbers import Number\n",
    "import math, cmath"
   ]
  },
  {
   "cell_type": "code",
   "execution_count": 4,
   "id": "3ed0b20c-b062-4bf9-b58c-7f66505f74b0",
   "metadata": {},
   "outputs": [],
   "source": [
    "def zin_lossless_(z0: Number, zl: Number, beta: Number, l: Number) -> Number:\n",
    "    tg = cmath.tan(beta * l)\n",
    "    num = z0 * (zl + 1j*z0*tg)\n",
    "    den = z0 + 1j*zl*tg\n",
    "    return num/den\n",
    "\n",
    "def zin_lossless_times_(z0: Number, zl: Number, beta_times_l: Number) -> Number:\n",
    "    tg = cmath.tan(beta_times_l)\n",
    "    num = z0 * (zl + 1j*z0*tg)\n",
    "    den = z0 + 1j*zl*tg\n",
    "    return num/den\n",
    "\n",
    "def V_lossless_(V0: Number, reflection_coefficient: Number, beta: Number, z: Number):\n",
    "    V = V0*(cmath.exp(-1j*beta*z) + reflection_coefficient*cmath.exp(1j*beta*z))\n",
    "    return V\n",
    "\n",
    "def I_lossless_(V0: Number, Z0: Number, reflection_coefficient: Number, beta: Number, z: Number):\n",
    "    I = (V0/Z0)*(cmath.exp(-1j*beta*z) - reflection_coefficient*cmath.exp(1j*beta*z))\n",
    "    return I\n",
    "\n",
    "def reflection_coefficient_(z0: Number, zl: Number) -> Number:\n",
    "    num = zl - z0\n",
    "    den = zl + z0\n",
    "    return num/den\n",
    "\n",
    "def reflection_coefficient_l_(reflection_coefficient, beta, l):\n",
    "    return reflection_coefficient * cmath.exp(-2*1j*beta*l)\n",
    "\n",
    "def swr_(reflection_coefficient):\n",
    "    return (1 + abs(reflection_coefficient))/(1 - abs(reflection_coefficient))\n",
    "\n",
    "def propagation_constant_circuit_(R, L, G, C, w):\n",
    "    term_1 = R + 1j*w*L\n",
    "    term_2 = G + 1j*w*C\n",
    "    return cmath.sqrt(term_1*term_2)\n",
    "\n",
    "def propagation_constant_(w, permittivity, permeability):\n",
    "    return w*cmath.sqrt(permittivity*permeability)\n",
    "\n",
    "def impedance_(R, L, G, C, w):\n",
    "    a = R + 1j*w*L\n",
    "    b = G + 1j*w*C\n",
    "    return cmath.sqrt(a/b)\n",
    "\n",
    "def atenuation_(alpha, l, in_db = False):\n",
    "    value = math.exp(-1 * alpha * l)\n",
    "    if in_db:\n",
    "        return -2 * math.log10(value)\n",
    "\n",
    "    return value\n",
    "\n",
    "def unit_to_db_(value):\n",
    "    return 20 * math.log10(value)\n",
    "\n",
    "def format_complex(z):\n",
    "    msg = (f'z = {z.real}+{z.imag}j in rectangular coordinates \\n'\n",
    "           f'or z = {abs(z)}*e^{(cmath.phase(z)*180/cmath.pi + 360)%360}j in polar coordinates (using degrees)\\n')\n",
    "    return msg    "
   ]
  },
  {
   "cell_type": "code",
   "execution_count": 5,
   "id": "57da1a79-e12d-445e-ae27-efd44c4c1b81",
   "metadata": {},
   "outputs": [
    {
     "name": "stdout",
     "output_type": "stream",
     "text": [
      "gama: (0.5391135357553036+8.01315439789067j)\n",
      "atenuation after 0.3 m is 0.14048042021872792 dB\n"
     ]
    }
   ],
   "source": [
    "R1 = 4\n",
    "L1 = 0.5 * 1e-6\n",
    "G1 = 0.02\n",
    "C1 = 200 * 1e-12\n",
    "w1 = 800 * 1e6\n",
    "\n",
    "gama1 = propagation_constant_circuit_(R1, L1, G1, C1, w1)\n",
    "alpha1 = gama1.real\n",
    "\n",
    "l1 = 0.3\n",
    "atenuation1 = atenuation_(alpha1, l1)\n",
    "atenuation1_db = atenuation_(alpha1, l1, True)\n",
    "print(\"gama: \" + str(gama1))\n",
    "print(f'atenuation after {l1} m is {atenuation1_db} dB')"
   ]
  },
  {
   "cell_type": "code",
   "execution_count": 6,
   "id": "95b10ef7-165b-46c7-bc6b-26334d075444",
   "metadata": {},
   "outputs": [
    {
     "name": "stdout",
     "output_type": "stream",
     "text": [
      "pc_lossy: z = 0.22591621095124334+3.873117366459551j in rectangular coordinates \n",
      "or z = 3.879700538539171*e^86.66175996979894j in polar coordinates (using degrees)\n",
      "\n",
      "(25.806494118515268+0.21432486822606223j)\n",
      "3.872983346207417j\n",
      "(25.819888974716115+0j)\n"
     ]
    }
   ],
   "source": [
    "# Lista 1\n",
    "\n",
    "# 2.2 (Pozar 3 ed.)\n",
    "L = 0.2*1e-6\n",
    "C = 300*1e-12\n",
    "R = 5\n",
    "G = 0.01 \n",
    "w = 500*1e6\n",
    "\n",
    "pc_lossy = propagation_constant_circuit_(R, L, G, C, w)\n",
    "ch_impedance_lossy = impedance_(R, L, G, C, w)\n",
    "print('pc_lossy: ' + format_complex(pc_lossy))\n",
    "print(ch_impedance_lossy)\n",
    "\n",
    "pc_lossless = propagation_constant_circuit_(0, L, 0, C, w)\n",
    "ch_impedance_lossless = impedance_(0, L, 0, C, w)\n",
    "print(pc_lossless)\n",
    "print(ch_impedance_lossless)"
   ]
  },
  {
   "cell_type": "code",
   "execution_count": 7,
   "id": "dea039f6-c542-4206-9ce6-f76c656995ca",
   "metadata": {},
   "outputs": [
    {
     "name": "stdout",
     "output_type": "stream",
     "text": [
      "Rs=0.008240996067111548\n",
      "L=2.39913502171604e-07 C=9.646239181115444e-11 R=1.8756165388694308 G=0.0002424364331692984\n",
      "Z=(49.87104220166847-0.02105193129526322j) propagation_constant=(0.024849945426179916+30.22638887076501j)\n"
     ]
    }
   ],
   "source": [
    "# 2.6\n",
    "def L_coax(permeability, b, a):\n",
    "    return (permeability*math.log(b/a))/ (2*math.pi)\n",
    "\n",
    "def C_coax(permittivity_real, b, a):\n",
    "    return (2*math.pi*permittivity_real)/math.log(b/a)\n",
    "\n",
    "def Rs(w, condutivity, permeability):\n",
    "    return math.sqrt((w*permeability)/(2*condutivity))\n",
    "\n",
    "def R_coax(Rs, b, a):\n",
    "    return (Rs/(2*math.pi))*((1/a) + (1/b))\n",
    "\n",
    "def G_coax(w, permittivity_imag, b, a):\n",
    "    return (2*math.pi*w*permittivity_imag)/math.log(b/a)\n",
    "\n",
    "# Vacuum constants\n",
    "permeability = 4*math.pi*1e-7\n",
    "permittivity = 8.854*1e-12\n",
    "\n",
    "# Frequency\n",
    "f = 1*1e9 # 1GHz\n",
    "w = 2*math.pi*f\n",
    "\n",
    "# Dimensions\n",
    "b = 3.02*1e-3 # outer radius\n",
    "a = 0.91*1e-3 # inner radius\n",
    "\n",
    "# Conductor is Copper:\n",
    "condutivity_copper = 5.813*1e7\n",
    "permeability_copper = permeability\n",
    "Rs_copper = Rs(w, condutivity_copper, permeability_copper)\n",
    "print(f'Rs={Rs_copper}')\n",
    "\n",
    "# Dieletric is Teflon\n",
    "permittivity_relative_teflon = 2.08\n",
    "loss_tan_teflon = 4*1e-4\n",
    "permittivity_real_teflon = permittivity_relative_teflon * permittivity\n",
    "permittivity_imag_teflon = loss_tan_teflon * permittivity_real_teflon\n",
    "\n",
    "L = L_coax(permeability_copper, b, a)\n",
    "C = C_coax(permittivity_real_teflon, b, a)\n",
    "R = R_coax(Rs_copper, b, a)\n",
    "G = G_coax(w, permittivity_imag_teflon, b, a)\n",
    "print(f'L={L} C={C} R={R} G={G}')\n",
    "\n",
    "impedance = impedance_(R, L, G, C, w)\n",
    "propagation_constant = propagation_constant_circuit_(R, L, G, C, w)\n",
    "print(f'Z={impedance} propagation_constant={propagation_constant}')"
   ]
  },
  {
   "cell_type": "code",
   "execution_count": 8,
   "id": "bc02deba-923f-4b17-b1de-b5e5b9a2a4b3",
   "metadata": {},
   "outputs": [
    {
     "name": "stdout",
     "output_type": "stream",
     "text": [
      "(0.4607101359007234, -2.5351468187057935)\n",
      "2.7085807339257255\n",
      "(0.4607101359007234, 1.2347643656019582)\n",
      "(202.9897237775293-5.192938734670089j)\n"
     ]
    }
   ],
   "source": [
    "# 2.8\n",
    "\n",
    "z0 = 75\n",
    "zl = 30 - 1j*20\n",
    "\n",
    "reflection_coefficient = reflection_coefficient_(z0, zl)\n",
    "print(cmath.polar(reflection_coefficient))\n",
    "\n",
    "swr = swr_(reflection_coefficient)\n",
    "print(swr)\n",
    "\n",
    "reflection_coefficient_at_input = reflection_coefficient * cmath.exp(1.2*cmath.pi*1j)\n",
    "print(cmath.polar(reflection_coefficient_at_input))\n",
    "\n",
    "beta_times_l = 0.6*cmath.pi\n",
    "zin = zin_lossless_times_(z0, zl, beta_times_l)\n",
    "print(zin)"
   ]
  },
  {
   "cell_type": "code",
   "execution_count": 9,
   "id": "a7fa2120-be36-40ba-9c07-1a0523d4012e",
   "metadata": {},
   "outputs": [
    {
     "name": "stdout",
     "output_type": "stream",
     "text": [
      "reflection coefficient: z = 0.07692307692307693+0.6153846153846154j in rectangular coordinates \n",
      "or z = 0.6201736729460423*e^82.8749836510982j in polar coordinates (using degrees)\n",
      "\n",
      "swr: z = 2.7085807339257255+0.0j in rectangular coordinates \n",
      "or z = 2.7085807339257255*e^0.0j in polar coordinates (using degrees)\n",
      "\n",
      "beta: z = 100.59949406376721+0.0j in rectangular coordinates \n",
      "or z = 100.59949406376721*e^0.0j in polar coordinates (using degrees)\n",
      "\n",
      "zin: z = 18.97128757381949+-20.442597779037794j in rectangular coordinates \n",
      "or z = 27.889237281863387*e^312.8621559507131j in polar coordinates (using degrees)\n",
      "\n",
      "reflection coefficient at input: z = -0.5241054260496188+-0.3315552548229814j in rectangular coordinates \n",
      "or z = 0.6201736729460423*e^212.31792641088862j in polar coordinates (using degrees)\n",
      "\n"
     ]
    }
   ],
   "source": [
    "# 2.13\n",
    "\n",
    "Z0 = 75\n",
    "l = 2*1e-2\n",
    "ZL = 37.5+1j*75\n",
    "epsilon = 2.56\n",
    "f = 3*1e9\n",
    "w = 2*math.pi*f\n",
    "dielectric_constant = 2.56\n",
    "permittivity_vacuum = 8.854*1e-12\n",
    "permittivity = dielectric_constant*permittivity_vacuum\n",
    "permeability = 4*cmath.pi*1e-7\n",
    "\n",
    "reflection_coef = reflection_coefficient_(Z0, ZL)\n",
    "print('reflection coefficient: ' + format_complex(reflection_coef))\n",
    "\n",
    "swr = swr_(reflection_coefficient)\n",
    "print('swr: ' + format_complex(swr))\n",
    "\n",
    "propagation_constant = propagation_constant_(w, permittivity, permeability)\n",
    "print('beta: ' + format_complex(propagation_constant))\n",
    "\n",
    "zin = zin_lossless_(Z0, ZL, propagation_constant, l)\n",
    "print('zin: ' + format_complex(zin))\n",
    "\n",
    "reflection_coef_at_input = reflection_coefficient_l_(reflection_coef, propagation_constant, l)\n",
    "print('reflection coefficient at input: ' + format_complex(reflection_coef_at_input))\n",
    "\n"
   ]
  },
  {
   "cell_type": "code",
   "execution_count": 10,
   "id": "2ec961d4-cffb-450d-8b6d-e2c91bcf3300",
   "metadata": {},
   "outputs": [
    {
     "name": "stdout",
     "output_type": "stream",
     "text": [
      "reflection_coefficient: z = -0.058823529411764705+-0.23529411764705882j in rectangular coordinates \n",
      "or z = 0.24253562503633297*e^255.9637565320735j in polar coordinates (using degrees)\n",
      "\n"
     ]
    },
    {
     "data": {
      "image/png": "[encoded data removed]",
      "text/plain": [
       "<Figure size 1000x500 with 1 Axes>"
      ]
     },
     "metadata": {},
     "output_type": "display_data"
    },
    {
     "data": {
      "image/png": "[encoded data removed]",
      "text/plain": [
       "<Figure size 1000x500 with 1 Axes>"
      ]
     },
     "metadata": {},
     "output_type": "display_data"
    }
   ],
   "source": [
    "# 2.18\n",
    "\n",
    "R = 100\n",
    "Vsource = 10\n",
    "Z0 = 100\n",
    "ZL = 80 - 1j*40\n",
    "\n",
    "reflection_coef = reflection_coefficient_(Z0, ZL)\n",
    "print(\"reflection_coefficient: \" + format_complex(reflection_coef))\n",
    "\n",
    "x = np.linspace(0, 3/2, 100)\n",
    "v = 5 * (np.exp(2*cmath.pi*1j*x) + reflection_coef * np.exp(-2*cmath.pi*1j*x))\n",
    "phase = np.angle(v, deg=True)\n",
    "modulo = np.abs(v)\n",
    "\n",
    "fig = plt.figure(figsize = (10, 5))\n",
    "\n",
    "plt.plot(x, modulo)\n",
    "plt.show()\n",
    "\n",
    "fig = plt.figure(figsize = (10, 5))\n",
    "\n",
    "plt.plot(x, phase)\n",
    "plt.show()"
   ]
  },
  {
   "cell_type": "code",
   "execution_count": 155,
   "id": "322e9170-c71d-4e32-b25b-ae140eea8d0a",
   "metadata": {},
   "outputs": [],
   "source": [
    "# Impedance matching\n",
    "\n",
    "def quarter_wave_transformer():\n",
    "    raise NotImplementedError()\n",
    "\n",
    "def load_to_real(Z0, ZL):\n",
    "    RL = ZL.real\n",
    "    XL = ZL.imag\n",
    "    \n",
    "    a = Z0*XL\n",
    "    b = (XL**2 + RL**2 - Z0**2)\n",
    "    c = -1*X*Z0\n",
    "    eq_coef = [a, b, c]\n",
    "    \n",
    "    tangents = np.roots(eq_coef)\n",
    "    print(f'tangents: {tangents}')\n",
    "\n",
    "    thetas = (np.arctan(tangents) + np.pi) % np.pi\n",
    "    print(f'thetas: {thetas}')\n",
    "\n",
    "    d = thetas/(2*np.pi)\n",
    "    print(f'd: {d} (wavelength)')\n",
    "\n",
    "    Zin = Z0*(ZL*np.cos(thetas) + 1j*Z0*np.sin(thetas))/(Z0*np.cos(thetas) + 1j*ZL*np.sin(thetas))\n",
    "    print(f'Zin: {Zin}')\n",
    "\n",
    "    return Zin\n",
    "\n",
    "def stub_transformer_parallel(Z0, ZL, R = Z0):\n",
    "    RL = ZL.real\n",
    "    XL = ZL.imag\n",
    "    \n",
    "    a = Z0**2 - R*RL\n",
    "    b = 2*XL*Z0\n",
    "    c = RL**2 + XL**2 - R*RL\n",
    "    eq_coef = [a, b, c]\n",
    "\n",
    "    tangents = np.roots(eq_coef)\n",
    "    print(f'tangents: {tangents}')\n",
    "    thetas = (np.arctan(tangents) + np.pi) % np.pi\n",
    "    print(f'thetas: {thetas}')\n",
    "    d = thetas/(2*np.pi)\n",
    "    print(f'd: {d} (wavelength)')\n",
    "\n",
    "    Zin = Z0*(ZL + 1j*Z0*np.tan(thetas))/(Z0 + 1j*ZL*np.tan(thetas))\n",
    "    print(f'Zin: {Zin}')\n",
    "    Yin = 1/Zin\n",
    "    print(f'Yin: {Yin}')\n",
    "\n",
    "    B = Yin.imag\n",
    "    print(f'B: {B}')\n",
    "    Y0 = 1/Z0\n",
    "    print(f'Y0: {Y0}')\n",
    "\n",
    "    print('\\n')\n",
    "    \n",
    "    theta_open_stub = (np.arctan(B/Y0) + np.pi) % -np.pi\n",
    "    print(f'theta_open_stub: {theta_open_stub}')\n",
    "    length_open_stub = (-1*theta_open_stub)/(2*np.pi)\n",
    "    print(f'length_open_stub: {length_open_stub} (wavelength)')\n",
    "\n",
    "    print('\\n')\n",
    "\n",
    "    theta_short_stub = (np.arctan(Y0/B) + np.pi) % np.pi\n",
    "    print(f'theta_short_stub: {theta_short_stub}')\n",
    "    length_short_stub = theta_short_stub/(2*np.pi)\n",
    "    print(f'length_short_stub: {length_short_stub} (wavelength)')    \n",
    "        \n",
    "    print('\\n')\n",
    "\n",
    "def stub_transformer_series(Z0, ZL, R = Z0):\n",
    "    RL = ZL.real\n",
    "    XL = ZL.imag\n",
    "\n",
    "    k = R/(Z0**2 * RL)\n",
    "    a = (k*XL**2 + k*RL**2 - 1)\n",
    "    b = -2*Z0*XL*k\n",
    "    c = k*Z0**2 - 1\n",
    "    eq_coef = [a, b, c]\n",
    "    \n",
    "    tangents = np.roots(eq_coef)\n",
    "    print(f'tangents: {tangents}')\n",
    "    thetas = (np.arctan(tangents) + np.pi) % np.pi\n",
    "    print(f'thetas: {thetas}')\n",
    "    d = thetas/(2*np.pi)\n",
    "    print(f'd: {d} (wavelength)')\n",
    "\n",
    "    Zin = Z0*(ZL + 1j*Z0*np.tan(thetas))/(Z0 + 1j*ZL*np.tan(thetas))\n",
    "    print(f'Zin: {Zin}')\n",
    "\n",
    "    X = Zin.imag\n",
    "    print(f'X: {X}')\n",
    "\n",
    "    print('\\n')\n",
    "\n",
    "    theta_open_stub = (np.arctan(Z0/X) + np.pi) % np.pi\n",
    "    print(f'theta_open_stub: {theta_open_stub}')\n",
    "    length_open_stub = theta_open_stub/(2*np.pi)\n",
    "    print(f'length_open_stub: {length_open_stub} (wavelength)')\n",
    "\n",
    "    print('\\n')\n",
    "\n",
    "    theta_short_stub = (np.arctan(X/Z0) + np.pi) % -np.pi\n",
    "    print(f'theta_short_stub: {theta_short_stub}')\n",
    "    length_short_stub = -1*theta_short_stub/(2*np.pi)\n",
    "    print(f'length_short_stub = {length_short_stub} (wavelength')\n",
    "    \n",
    "    print('\\n')"
   ]
  },
  {
   "cell_type": "code",
   "execution_count": 163,
   "id": "d4a41773-0aa7-4d65-8b03-a286d438bd97",
   "metadata": {},
   "outputs": [
    {
     "name": "stdout",
     "output_type": "stream",
     "text": [
      "tangents: [-18.1976741  -1.0023259]\n",
      "thetas: [1.62569319 2.35503289]\n",
      "d: [0.25873711 0.37481513] (wavelength)\n",
      "Zin: [33.03964758-23.6720102j 33.03964758+23.6720102j]\n",
      "Yin: [0.02+0.01432946j 0.02-0.01432946j]\n",
      "B: [ 0.01432946 -0.01432946]\n",
      "Y0: 0.013333333333333334\n",
      "\n",
      "\n",
      "theta_open_stub: [-2.32020053 -0.82139212]\n",
      "length_open_stub: [0.36927138 0.13072862] (wavelength)\n",
      "\n",
      "\n",
      "theta_short_stub: [0.74940421 2.39218845]\n",
      "length_short_stub: [0.11927138 0.38072862] (wavelength)\n",
      "\n",
      "\n"
     ]
    }
   ],
   "source": [
    "# %%capture\n",
    "# 5.3 and 5.4\n",
    "\n",
    "Z0 = 75\n",
    "ZL = 100 + 1j*80\n",
    "stub_transformer_parallel(Z0, ZL)"
   ]
  },
  {
   "cell_type": "code",
   "execution_count": 161,
   "id": "567149a9-8eff-4de6-8d5d-d2a67cf6d37b",
   "metadata": {},
   "outputs": [
    {
     "name": "stdout",
     "output_type": "stream",
     "text": [
      "tangents: [-3.73205081 -0.26794919]\n",
      "thetas: [1.83259571 2.87979327]\n",
      "d: [0.29166667 0.45833333] (wavelength)\n",
      "Zin: [50.+57.73502692j 50.-57.73502692j]\n",
      "X: [ 57.73502692 -57.73502692]\n",
      "\n",
      "\n",
      "theta_open_stub: [0.71372438 2.42786827]\n",
      "length_open_stub: [0.11359276 0.38640724] (wavelength)\n",
      "\n",
      "\n",
      "theta_short_stub: [-2.28452071 -0.85707195]\n",
      "length_short_stub = [0.36359276 0.13640724] (wavelength\n",
      "\n",
      "\n"
     ]
    }
   ],
   "source": [
    "# 5.5 and 5.6\n",
    "\n",
    "Z0 = 50\n",
    "ZL = 30 - 1j*40\n",
    "stub_transformer_series(Z0, ZL)"
   ]
  },
  {
   "cell_type": "code",
   "execution_count": 12,
   "id": "842ec94c-34ff-4add-8d52-bdf2fe31bc9f",
   "metadata": {},
   "outputs": [
    {
     "name": "stdout",
     "output_type": "stream",
     "text": [
      "tangents: [-1.58401304  0.63130794]\n",
      "thetas: [2.13391883 0.5631225 ]\n",
      "x: [0.33962373 0.08962373] (wavelenght)\n",
      "Zin: [  9.28967139-4.85514795e-15j 269.11608542+1.56791809e-13j]\n",
      "Zt: [ 21.55188088-5.63193066e-15j 115.99915634+3.37915839e-14j]\n"
     ]
    }
   ],
   "source": [
    "# Lista 1 extra question\n",
    "f = 2e9\n",
    "w = 2*math.pi*f\n",
    "L = 5.6e-9\n",
    "\n",
    "ZL = 30 + 1j*w*L\n",
    "Z0 = 50\n",
    "Zin = load_to_real(Z0, ZL)\n",
    "\n",
    "Zt = np.sqrt(Zin*Z0)\n",
    "print(f'Zt: {Zt}')"
   ]
  },
  {
   "cell_type": "code",
   "execution_count": 62,
   "id": "4d256d07-47d9-406d-a681-db495da50cbc",
   "metadata": {},
   "outputs": [
    {
     "data": {
      "application/vnd.plotly.v1+json": {
       "config": {
        "plotlyServerURL": "https://plot.ly"
       },
       "data": [
        {
         "imag": [
          0.5,
          1,
          2,
          3
         ],
         "real": [
          0.5,
          1,
          2,
          3
         ],
         "type": "scattersmith"
        }
       ],
       "layout": {
        "autosize": false,
        "height": 1000,
        "smith": {
         "imaginaryaxis": {},
         "realaxis": {
          "range": [
           0,
           1
          ]
         }
        },
        "template": {
         "data": {
          "bar": [
           {
            "error_x": {
             "color": "#2a3f5f"
            },
            "error_y": {
             "color": "#2a3f5f"
            },
            "marker": {
             "line": {
              "color": "#E5ECF6",
              "width": 0.5
             },
             "pattern": {
              "fillmode": "overlay",
              "size": 10,
              "solidity": 0.2
             }
            },
            "type": "bar"
           }
          ],
          "barpolar": [
           {
            "marker": {
             "line": {
              "color": "#E5ECF6",
              "width": 0.5
             },
             "pattern": {
              "fillmode": "overlay",
              "size": 10,
              "solidity": 0.2
             }
            },
            "type": "barpolar"
           }
          ],
          "carpet": [
           {
            "aaxis": {
             "endlinecolor": "#2a3f5f",
             "gridcolor": "white",
             "linecolor": "white",
             "minorgridcolor": "white",
             "startlinecolor": "#2a3f5f"
            },
            "baxis": {
             "endlinecolor": "#2a3f5f",
             "gridcolor": "white",
             "linecolor": "white",
             "minorgridcolor": "white",
             "startlinecolor": "#2a3f5f"
            },
            "type": "carpet"
           }
          ],
          "choropleth": [
           {
            "colorbar": {
             "outlinewidth": 0,
             "ticks": ""
            },
            "type": "choropleth"
           }
          ],
          "contour": [
           {
            "colorbar": {
             "outlinewidth": 0,
             "ticks": ""
            },
            "colorscale": [
             [
              0,
              "#0d0887"
             ],
             [
              0.1111111111111111,
              "#46039f"
             ],
             [
              0.2222222222222222,
              "#7201a8"
             ],
             [
              0.3333333333333333,
              "#9c179e"
             ],
             [
              0.4444444444444444,
              "#bd3786"
             ],
             [
              0.5555555555555556,
              "#d8576b"
             ],
             [
              0.6666666666666666,
              "#ed7953"
             ],
             [
              0.7777777777777778,
              "#fb9f3a"
             ],
             [
              0.8888888888888888,
              "#fdca26"
             ],
             [
              1,
              "#f0f921"
             ]
            ],
            "type": "contour"
           }
          ],
          "contourcarpet": [
           {
            "colorbar": {
             "outlinewidth": 0,
             "ticks": ""
            },
            "type": "contourcarpet"
           }
          ],
          "heatmap": [
           {
            "colorbar": {
             "outlinewidth": 0,
             "ticks": ""
            },
            "colorscale": [
             [
              0,
              "#0d0887"
             ],
             [
              0.1111111111111111,
              "#46039f"
             ],
             [
              0.2222222222222222,
              "#7201a8"
             ],
             [
              0.3333333333333333,
              "#9c179e"
             ],
             [
              0.4444444444444444,
              "#bd3786"
             ],
             [
              0.5555555555555556,
              "#d8576b"
             ],
             [
              0.6666666666666666,
              "#ed7953"
             ],
             [
              0.7777777777777778,
              "#fb9f3a"
             ],
             [
              0.8888888888888888,
              "#fdca26"
             ],
             [
              1,
              "#f0f921"
             ]
            ],
            "type": "heatmap"
           }
          ],
          "heatmapgl": [
           {
            "colorbar": {
             "outlinewidth": 0,
             "ticks": ""
            },
            "colorscale": [
             [
              0,
              "#0d0887"
             ],
             [
              0.1111111111111111,
              "#46039f"
             ],
             [
              0.2222222222222222,
              "#7201a8"
             ],
             [
              0.3333333333333333,
              "#9c179e"
             ],
             [
              0.4444444444444444,
              "#bd3786"
             ],
             [
              0.5555555555555556,
              "#d8576b"
             ],
             [
              0.6666666666666666,
              "#ed7953"
             ],
             [
              0.7777777777777778,
              "#fb9f3a"
             ],
             [
              0.8888888888888888,
              "#fdca26"
             ],
             [
              1,
              "#f0f921"
             ]
            ],
            "type": "heatmapgl"
           }
          ],
          "histogram": [
           {
            "marker": {
             "pattern": {
              "fillmode": "overlay",
              "size": 10,
              "solidity": 0.2
             }
            },
            "type": "histogram"
           }
          ],
          "histogram2d": [
           {
            "colorbar": {
             "outlinewidth": 0,
             "ticks": ""
            },
            "colorscale": [
             [
              0,
              "#0d0887"
             ],
             [
              0.1111111111111111,
              "#46039f"
             ],
             [
              0.2222222222222222,
              "#7201a8"
             ],
             [
              0.3333333333333333,
              "#9c179e"
             ],
             [
              0.4444444444444444,
              "#bd3786"
             ],
             [
              0.5555555555555556,
              "#d8576b"
             ],
             [
              0.6666666666666666,
              "#ed7953"
             ],
             [
              0.7777777777777778,
              "#fb9f3a"
             ],
             [
              0.8888888888888888,
              "#fdca26"
             ],
             [
              1,
              "#f0f921"
             ]
            ],
            "type": "histogram2d"
           }
          ],
          "histogram2dcontour": [
           {
            "colorbar": {
             "outlinewidth": 0,
             "ticks": ""
            },
            "colorscale": [
             [
              0,
              "#0d0887"
             ],
             [
              0.1111111111111111,
              "#46039f"
             ],
             [
              0.2222222222222222,
              "#7201a8"
             ],
             [
              0.3333333333333333,
              "#9c179e"
             ],
             [
              0.4444444444444444,
              "#bd3786"
             ],
             [
              0.5555555555555556,
              "#d8576b"
             ],
             [
              0.6666666666666666,
              "#ed7953"
             ],
             [
              0.7777777777777778,
              "#fb9f3a"
             ],
             [
              0.8888888888888888,
              "#fdca26"
             ],
             [
              1,
              "#f0f921"
             ]
            ],
            "type": "histogram2dcontour"
           }
          ],
          "mesh3d": [
           {
            "colorbar": {
             "outlinewidth": 0,
             "ticks": ""
            },
            "type": "mesh3d"
           }
          ],
          "parcoords": [
           {
            "line": {
             "colorbar": {
              "outlinewidth": 0,
              "ticks": ""
             }
            },
            "type": "parcoords"
           }
          ],
          "pie": [
           {
            "automargin": true,
            "type": "pie"
           }
          ],
          "scatter": [
           {
            "fillpattern": {
             "fillmode": "overlay",
             "size": 10,
             "solidity": 0.2
            },
            "type": "scatter"
           }
          ],
          "scatter3d": [
           {
            "line": {
             "colorbar": {
              "outlinewidth": 0,
              "ticks": ""
             }
            },
            "marker": {
             "colorbar": {
              "outlinewidth": 0,
              "ticks": ""
             }
            },
            "type": "scatter3d"
           }
          ],
          "scattercarpet": [
           {
            "marker": {
             "colorbar": {
              "outlinewidth": 0,
              "ticks": ""
             }
            },
            "type": "scattercarpet"
           }
          ],
          "scattergeo": [
           {
            "marker": {
             "colorbar": {
              "outlinewidth": 0,
              "ticks": ""
             }
            },
            "type": "scattergeo"
           }
          ],
          "scattergl": [
           {
            "marker": {
             "colorbar": {
              "outlinewidth": 0,
              "ticks": ""
             }
            },
            "type": "scattergl"
           }
          ],
          "scattermapbox": [
           {
            "marker": {
             "colorbar": {
              "outlinewidth": 0,
              "ticks": ""
             }
            },
            "type": "scattermapbox"
           }
          ],
          "scatterpolar": [
           {
            "marker": {
             "colorbar": {
              "outlinewidth": 0,
              "ticks": ""
             }
            },
            "type": "scatterpolar"
           }
          ],
          "scatterpolargl": [
           {
            "marker": {
             "colorbar": {
              "outlinewidth": 0,
              "ticks": ""
             }
            },
            "type": "scatterpolargl"
           }
          ],
          "scatterternary": [
           {
            "marker": {
             "colorbar": {
              "outlinewidth": 0,
              "ticks": ""
             }
            },
            "type": "scatterternary"
           }
          ],
          "surface": [
           {
            "colorbar": {
             "outlinewidth": 0,
             "ticks": ""
            },
            "colorscale": [
             [
              0,
              "#0d0887"
             ],
             [
              0.1111111111111111,
              "#46039f"
             ],
             [
              0.2222222222222222,
              "#7201a8"
             ],
             [
              0.3333333333333333,
              "#9c179e"
             ],
             [
              0.4444444444444444,
              "#bd3786"
             ],
             [
              0.5555555555555556,
              "#d8576b"
             ],
             [
              0.6666666666666666,
              "#ed7953"
             ],
             [
              0.7777777777777778,
              "#fb9f3a"
             ],
             [
              0.8888888888888888,
              "#fdca26"
             ],
             [
              1,
              "#f0f921"
             ]
            ],
            "type": "surface"
           }
          ],
          "table": [
           {
            "cells": {
             "fill": {
              "color": "#EBF0F8"
             },
             "line": {
              "color": "white"
             }
            },
            "header": {
             "fill": {
              "color": "#C8D4E3"
             },
             "line": {
              "color": "white"
             }
            },
            "type": "table"
           }
          ]
         },
         "layout": {
          "annotationdefaults": {
           "arrowcolor": "#2a3f5f",
           "arrowhead": 0,
           "arrowwidth": 1
          },
          "autotypenumbers": "strict",
          "coloraxis": {
           "colorbar": {
            "outlinewidth": 0,
            "ticks": ""
           }
          },
          "colorscale": {
           "diverging": [
            [
             0,
             "#8e0152"
            ],
            [
             0.1,
             "#c51b7d"
            ],
            [
             0.2,
             "#de77ae"
            ],
            [
             0.3,
             "#f1b6da"
            ],
            [
             0.4,
             "#fde0ef"
            ],
            [
             0.5,
             "#f7f7f7"
            ],
            [
             0.6,
             "#e6f5d0"
            ],
            [
             0.7,
             "#b8e186"
            ],
            [
             0.8,
             "#7fbc41"
            ],
            [
             0.9,
             "#4d9221"
            ],
            [
             1,
             "#276419"
            ]
           ],
           "sequential": [
            [
             0,
             "#0d0887"
            ],
            [
             0.1111111111111111,
             "#46039f"
            ],
            [
             0.2222222222222222,
             "#7201a8"
            ],
            [
             0.3333333333333333,
             "#9c179e"
            ],
            [
             0.4444444444444444,
             "#bd3786"
            ],
            [
             0.5555555555555556,
             "#d8576b"
            ],
            [
             0.6666666666666666,
             "#ed7953"
            ],
            [
             0.7777777777777778,
             "#fb9f3a"
            ],
            [
             0.8888888888888888,
             "#fdca26"
            ],
            [
             1,
             "#f0f921"
            ]
           ],
           "sequentialminus": [
            [
             0,
             "#0d0887"
            ],
            [
             0.1111111111111111,
             "#46039f"
            ],
            [
             0.2222222222222222,
             "#7201a8"
            ],
            [
             0.3333333333333333,
             "#9c179e"
            ],
            [
             0.4444444444444444,
             "#bd3786"
            ],
            [
             0.5555555555555556,
             "#d8576b"
            ],
            [
             0.6666666666666666,
             "#ed7953"
            ],
            [
             0.7777777777777778,
             "#fb9f3a"
            ],
            [
             0.8888888888888888,
             "#fdca26"
            ],
            [
             1,
             "#f0f921"
            ]
           ]
          },
          "colorway": [
           "#636efa",
           "#EF553B",
           "#00cc96",
           "#ab63fa",
           "#FFA15A",
           "#19d3f3",
           "#FF6692",
           "#B6E880",
           "#FF97FF",
           "#FECB52"
          ],
          "font": {
           "color": "#2a3f5f"
          },
          "geo": {
           "bgcolor": "white",
           "lakecolor": "white",
           "landcolor": "#E5ECF6",
           "showlakes": true,
           "showland": true,
           "subunitcolor": "white"
          },
          "hoverlabel": {
           "align": "left"
          },
          "hovermode": "closest",
          "mapbox": {
           "style": "light"
          },
          "paper_bgcolor": "white",
          "plot_bgcolor": "#E5ECF6",
          "polar": {
           "angularaxis": {
            "gridcolor": "white",
            "linecolor": "white",
            "ticks": ""
           },
           "bgcolor": "#E5ECF6",
           "radialaxis": {
            "gridcolor": "white",
            "linecolor": "white",
            "ticks": ""
           }
          },
          "scene": {
           "xaxis": {
            "backgroundcolor": "#E5ECF6",
            "gridcolor": "white",
            "gridwidth": 2,
            "linecolor": "white",
            "showbackground": true,
            "ticks": "",
            "zerolinecolor": "white"
           },
           "yaxis": {
            "backgroundcolor": "#E5ECF6",
            "gridcolor": "white",
            "gridwidth": 2,
            "linecolor": "white",
            "showbackground": true,
            "ticks": "",
            "zerolinecolor": "white"
           },
           "zaxis": {
            "backgroundcolor": "#E5ECF6",
            "gridcolor": "white",
            "gridwidth": 2,
            "linecolor": "white",
            "showbackground": true,
            "ticks": "",
            "zerolinecolor": "white"
           }
          },
          "shapedefaults": {
           "line": {
            "color": "#2a3f5f"
           }
          },
          "ternary": {
           "aaxis": {
            "gridcolor": "white",
            "linecolor": "white",
            "ticks": ""
           },
           "baxis": {
            "gridcolor": "white",
            "linecolor": "white",
            "ticks": ""
           },
           "bgcolor": "#E5ECF6",
           "caxis": {
            "gridcolor": "white",
            "linecolor": "white",
            "ticks": ""
           }
          },
          "title": {
           "x": 0.05
          },
          "xaxis": {
           "automargin": true,
           "gridcolor": "white",
           "linecolor": "white",
           "ticks": "",
           "title": {
            "standoff": 15
           },
           "zerolinecolor": "white",
           "zerolinewidth": 2
          },
          "yaxis": {
           "automargin": true,
           "gridcolor": "white",
           "linecolor": "white",
           "ticks": "",
           "title": {
            "standoff": 15
           },
           "zerolinecolor": "white",
           "zerolinewidth": 2
          }
         }
        },
        "width": 1000
       }
      },
      "image/png": "[encoded data removed]",
      "text/html": [
       "<div>                            <div id=\"c4d0e48b-ffc1-405a-9847-f7ccab358a3b\" class=\"plotly-graph-div\" style=\"height:1000px; width:1000px;\"></div>            <script type=\"text/javascript\">                require([\"plotly\"], function(Plotly) {                    window.PLOTLYENV=window.PLOTLYENV || {};                                    if (document.getElementById(\"c4d0e48b-ffc1-405a-9847-f7ccab358a3b\")) {                    Plotly.newPlot(                        \"c4d0e48b-ffc1-405a-9847-f7ccab358a3b\",                        [{\"imag\":[0.5,1,2,3],\"real\":[0.5,1,2,3],\"type\":\"scattersmith\"}],                        {\"template\":{\"data\":{\"histogram2dcontour\":[{\"type\":\"histogram2dcontour\",\"colorbar\":{\"outlinewidth\":0,\"ticks\":\"\"},\"colorscale\":[[0.0,\"#0d0887\"],[0.1111111111111111,\"#46039f\"],[0.2222222222222222,\"#7201a8\"],[0.3333333333333333,\"#9c179e\"],[0.4444444444444444,\"#bd3786\"],[0.5555555555555556,\"#d8576b\"],[0.6666666666666666,\"#ed7953\"],[0.7777777777777778,\"#fb9f3a\"],[0.8888888888888888,\"#fdca26\"],[1.0,\"#f0f921\"]]}],\"choropleth\":[{\"type\":\"choropleth\",\"colorbar\":{\"outlinewidth\":0,\"ticks\":\"\"}}],\"histogram2d\":[{\"type\":\"histogram2d\",\"colorbar\":{\"outlinewidth\":0,\"ticks\":\"\"},\"colorscale\":[[0.0,\"#0d0887\"],[0.1111111111111111,\"#46039f\"],[0.2222222222222222,\"#7201a8\"],[0.3333333333333333,\"#9c179e\"],[0.4444444444444444,\"#bd3786\"],[0.5555555555555556,\"#d8576b\"],[0.6666666666666666,\"#ed7953\"],[0.7777777777777778,\"#fb9f3a\"],[0.8888888888888888,\"#fdca26\"],[1.0,\"#f0f921\"]]}],\"heatmap\":[{\"type\":\"heatmap\",\"colorbar\":{\"outlinewidth\":0,\"ticks\":\"\"},\"colorscale\":[[0.0,\"#0d0887\"],[0.1111111111111111,\"#46039f\"],[0.2222222222222222,\"#7201a8\"],[0.3333333333333333,\"#9c179e\"],[0.4444444444444444,\"#bd3786\"],[0.5555555555555556,\"#d8576b\"],[0.6666666666666666,\"#ed7953\"],[0.7777777777777778,\"#fb9f3a\"],[0.8888888888888888,\"#fdca26\"],[1.0,\"#f0f921\"]]}],\"heatmapgl\":[{\"type\":\"heatmapgl\",\"colorbar\":{\"outlinewidth\":0,\"ticks\":\"\"},\"colorscale\":[[0.0,\"#0d0887\"],[0.1111111111111111,\"#46039f\"],[0.2222222222222222,\"#7201a8\"],[0.3333333333333333,\"#9c179e\"],[0.4444444444444444,\"#bd3786\"],[0.5555555555555556,\"#d8576b\"],[0.6666666666666666,\"#ed7953\"],[0.7777777777777778,\"#fb9f3a\"],[0.8888888888888888,\"#fdca26\"],[1.0,\"#f0f921\"]]}],\"contourcarpet\":[{\"type\":\"contourcarpet\",\"colorbar\":{\"outlinewidth\":0,\"ticks\":\"\"}}],\"contour\":[{\"type\":\"contour\",\"colorbar\":{\"outlinewidth\":0,\"ticks\":\"\"},\"colorscale\":[[0.0,\"#0d0887\"],[0.1111111111111111,\"#46039f\"],[0.2222222222222222,\"#7201a8\"],[0.3333333333333333,\"#9c179e\"],[0.4444444444444444,\"#bd3786\"],[0.5555555555555556,\"#d8576b\"],[0.6666666666666666,\"#ed7953\"],[0.7777777777777778,\"#fb9f3a\"],[0.8888888888888888,\"#fdca26\"],[1.0,\"#f0f921\"]]}],\"surface\":[{\"type\":\"surface\",\"colorbar\":{\"outlinewidth\":0,\"ticks\":\"\"},\"colorscale\":[[0.0,\"#0d0887\"],[0.1111111111111111,\"#46039f\"],[0.2222222222222222,\"#7201a8\"],[0.3333333333333333,\"#9c179e\"],[0.4444444444444444,\"#bd3786\"],[0.5555555555555556,\"#d8576b\"],[0.6666666666666666,\"#ed7953\"],[0.7777777777777778,\"#fb9f3a\"],[0.8888888888888888,\"#fdca26\"],[1.0,\"#f0f921\"]]}],\"mesh3d\":[{\"type\":\"mesh3d\",\"colorbar\":{\"outlinewidth\":0,\"ticks\":\"\"}}],\"scatter\":[{\"fillpattern\":{\"fillmode\":\"overlay\",\"size\":10,\"solidity\":0.2},\"type\":\"scatter\"}],\"parcoords\":[{\"type\":\"parcoords\",\"line\":{\"colorbar\":{\"outlinewidth\":0,\"ticks\":\"\"}}}],\"scatterpolargl\":[{\"type\":\"scatterpolargl\",\"marker\":{\"colorbar\":{\"outlinewidth\":0,\"ticks\":\"\"}}}],\"bar\":[{\"error_x\":{\"color\":\"#2a3f5f\"},\"error_y\":{\"color\":\"#2a3f5f\"},\"marker\":{\"line\":{\"color\":\"#E5ECF6\",\"width\":0.5},\"pattern\":{\"fillmode\":\"overlay\",\"size\":10,\"solidity\":0.2}},\"type\":\"bar\"}],\"scattergeo\":[{\"type\":\"scattergeo\",\"marker\":{\"colorbar\":{\"outlinewidth\":0,\"ticks\":\"\"}}}],\"scatterpolar\":[{\"type\":\"scatterpolar\",\"marker\":{\"colorbar\":{\"outlinewidth\":0,\"ticks\":\"\"}}}],\"histogram\":[{\"marker\":{\"pattern\":{\"fillmode\":\"overlay\",\"size\":10,\"solidity\":0.2}},\"type\":\"histogram\"}],\"scattergl\":[{\"type\":\"scattergl\",\"marker\":{\"colorbar\":{\"outlinewidth\":0,\"ticks\":\"\"}}}],\"scatter3d\":[{\"type\":\"scatter3d\",\"line\":{\"colorbar\":{\"outlinewidth\":0,\"ticks\":\"\"}},\"marker\":{\"colorbar\":{\"outlinewidth\":0,\"ticks\":\"\"}}}],\"scattermapbox\":[{\"type\":\"scattermapbox\",\"marker\":{\"colorbar\":{\"outlinewidth\":0,\"ticks\":\"\"}}}],\"scatterternary\":[{\"type\":\"scatterternary\",\"marker\":{\"colorbar\":{\"outlinewidth\":0,\"ticks\":\"\"}}}],\"scattercarpet\":[{\"type\":\"scattercarpet\",\"marker\":{\"colorbar\":{\"outlinewidth\":0,\"ticks\":\"\"}}}],\"carpet\":[{\"aaxis\":{\"endlinecolor\":\"#2a3f5f\",\"gridcolor\":\"white\",\"linecolor\":\"white\",\"minorgridcolor\":\"white\",\"startlinecolor\":\"#2a3f5f\"},\"baxis\":{\"endlinecolor\":\"#2a3f5f\",\"gridcolor\":\"white\",\"linecolor\":\"white\",\"minorgridcolor\":\"white\",\"startlinecolor\":\"#2a3f5f\"},\"type\":\"carpet\"}],\"table\":[{\"cells\":{\"fill\":{\"color\":\"#EBF0F8\"},\"line\":{\"color\":\"white\"}},\"header\":{\"fill\":{\"color\":\"#C8D4E3\"},\"line\":{\"color\":\"white\"}},\"type\":\"table\"}],\"barpolar\":[{\"marker\":{\"line\":{\"color\":\"#E5ECF6\",\"width\":0.5},\"pattern\":{\"fillmode\":\"overlay\",\"size\":10,\"solidity\":0.2}},\"type\":\"barpolar\"}],\"pie\":[{\"automargin\":true,\"type\":\"pie\"}]},\"layout\":{\"autotypenumbers\":\"strict\",\"colorway\":[\"#636efa\",\"#EF553B\",\"#00cc96\",\"#ab63fa\",\"#FFA15A\",\"#19d3f3\",\"#FF6692\",\"#B6E880\",\"#FF97FF\",\"#FECB52\"],\"font\":{\"color\":\"#2a3f5f\"},\"hovermode\":\"closest\",\"hoverlabel\":{\"align\":\"left\"},\"paper_bgcolor\":\"white\",\"plot_bgcolor\":\"#E5ECF6\",\"polar\":{\"bgcolor\":\"#E5ECF6\",\"angularaxis\":{\"gridcolor\":\"white\",\"linecolor\":\"white\",\"ticks\":\"\"},\"radialaxis\":{\"gridcolor\":\"white\",\"linecolor\":\"white\",\"ticks\":\"\"}},\"ternary\":{\"bgcolor\":\"#E5ECF6\",\"aaxis\":{\"gridcolor\":\"white\",\"linecolor\":\"white\",\"ticks\":\"\"},\"baxis\":{\"gridcolor\":\"white\",\"linecolor\":\"white\",\"ticks\":\"\"},\"caxis\":{\"gridcolor\":\"white\",\"linecolor\":\"white\",\"ticks\":\"\"}},\"coloraxis\":{\"colorbar\":{\"outlinewidth\":0,\"ticks\":\"\"}},\"colorscale\":{\"sequential\":[[0.0,\"#0d0887\"],[0.1111111111111111,\"#46039f\"],[0.2222222222222222,\"#7201a8\"],[0.3333333333333333,\"#9c179e\"],[0.4444444444444444,\"#bd3786\"],[0.5555555555555556,\"#d8576b\"],[0.6666666666666666,\"#ed7953\"],[0.7777777777777778,\"#fb9f3a\"],[0.8888888888888888,\"#fdca26\"],[1.0,\"#f0f921\"]],\"sequentialminus\":[[0.0,\"#0d0887\"],[0.1111111111111111,\"#46039f\"],[0.2222222222222222,\"#7201a8\"],[0.3333333333333333,\"#9c179e\"],[0.4444444444444444,\"#bd3786\"],[0.5555555555555556,\"#d8576b\"],[0.6666666666666666,\"#ed7953\"],[0.7777777777777778,\"#fb9f3a\"],[0.8888888888888888,\"#fdca26\"],[1.0,\"#f0f921\"]],\"diverging\":[[0,\"#8e0152\"],[0.1,\"#c51b7d\"],[0.2,\"#de77ae\"],[0.3,\"#f1b6da\"],[0.4,\"#fde0ef\"],[0.5,\"#f7f7f7\"],[0.6,\"#e6f5d0\"],[0.7,\"#b8e186\"],[0.8,\"#7fbc41\"],[0.9,\"#4d9221\"],[1,\"#276419\"]]},\"xaxis\":{\"gridcolor\":\"white\",\"linecolor\":\"white\",\"ticks\":\"\",\"title\":{\"standoff\":15},\"zerolinecolor\":\"white\",\"automargin\":true,\"zerolinewidth\":2},\"yaxis\":{\"gridcolor\":\"white\",\"linecolor\":\"white\",\"ticks\":\"\",\"title\":{\"standoff\":15},\"zerolinecolor\":\"white\",\"automargin\":true,\"zerolinewidth\":2},\"scene\":{\"xaxis\":{\"backgroundcolor\":\"#E5ECF6\",\"gridcolor\":\"white\",\"linecolor\":\"white\",\"showbackground\":true,\"ticks\":\"\",\"zerolinecolor\":\"white\",\"gridwidth\":2},\"yaxis\":{\"backgroundcolor\":\"#E5ECF6\",\"gridcolor\":\"white\",\"linecolor\":\"white\",\"showbackground\":true,\"ticks\":\"\",\"zerolinecolor\":\"white\",\"gridwidth\":2},\"zaxis\":{\"backgroundcolor\":\"#E5ECF6\",\"gridcolor\":\"white\",\"linecolor\":\"white\",\"showbackground\":true,\"ticks\":\"\",\"zerolinecolor\":\"white\",\"gridwidth\":2}},\"shapedefaults\":{\"line\":{\"color\":\"#2a3f5f\"}},\"annotationdefaults\":{\"arrowcolor\":\"#2a3f5f\",\"arrowhead\":0,\"arrowwidth\":1},\"geo\":{\"bgcolor\":\"white\",\"landcolor\":\"#E5ECF6\",\"subunitcolor\":\"white\",\"showland\":true,\"showlakes\":true,\"lakecolor\":\"white\"},\"title\":{\"x\":0.05},\"mapbox\":{\"style\":\"light\"}}},\"autosize\":false,\"width\":1000,\"height\":1000},                        {\"responsive\": true}                    ).then(function(){\n",
       "                            \n",
       "var gd = document.getElementById('c4d0e48b-ffc1-405a-9847-f7ccab358a3b');\n",
       "var x = new MutationObserver(function (mutations, observer) {{\n",
       "        var display = window.getComputedStyle(gd).display;\n",
       "        if (!display || display === 'none') {{\n",
       "            console.log([gd, 'removed!']);\n",
       "            Plotly.purge(gd);\n",
       "            observer.disconnect();\n",
       "        }}\n",
       "}});\n",
       "\n",
       "// Listen for the removal of the full notebook cells\n",
       "var notebookContainer = gd.closest('#notebook-container');\n",
       "if (notebookContainer) {{\n",
       "    x.observe(notebookContainer, {childList: true});\n",
       "}}\n",
       "\n",
       "// Listen for the clearing of the current output cell\n",
       "var outputEl = gd.closest('.output');\n",
       "if (outputEl) {{\n",
       "    x.observe(outputEl, {childList: true});\n",
       "}}\n",
       "\n",
       "                        })                };                });            </script>        </div>"
      ]
     },
     "metadata": {},
     "output_type": "display_data"
    }
   ],
   "source": [
    "# Smith charts\n",
    "import plotly.graph_objects as go\n",
    "\n",
    "fig = go.Figure(go.Scattersmith(imag=[0.5, 1, 2, 3], real=[0.5, 1, 2, 3]))\n",
    "fig.update_layout(\n",
    "    autosize=False,\n",
    "    width=1000,\n",
    "    height=1000,\n",
    ")\n",
    "fig.show()"
   ]
  },
  {
   "cell_type": "code",
   "execution_count": null,
   "id": "9a8a5723-2bf2-43ad-809d-8e9972b2c00d",
   "metadata": {},
   "outputs": [],
   "source": []
  },
  {
   "cell_type": "code",
   "execution_count": null,
   "id": "4d1d6eec-8f86-424a-bb37-c5a32de2ae30",
   "metadata": {},
   "outputs": [],
   "source": []
  }
 ],
 "metadata": {
  "kernelspec": {
   "display_name": "Python 3 (ipykernel)",
   "language": "python",
   "name": "python3"
  },
  "language_info": {
   "codemirror_mode": {
    "name": "ipython",
    "version": 3
   },
   "file_extension": ".py",
   "mimetype": "text/x-python",
   "name": "python",
   "nbconvert_exporter": "python",
   "pygments_lexer": "ipython3",
   "version": "3.10.12"
  }
 },
 "nbformat": 4,
 "nbformat_minor": 5
}
