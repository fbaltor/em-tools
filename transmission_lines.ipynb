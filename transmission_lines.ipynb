{
 "cells": [
  {
   "cell_type": "code",
   "execution_count": 39,
   "id": "254a42c2-e90d-49c4-a683-64503e7a01a6",
   "metadata": {},
   "outputs": [],
   "source": [
    "import matplotlib as mpl\n",
    "import matplotlib.pyplot as plt\n",
    "import numpy as np\n",
    "from numbers import Number\n",
    "import math, cmath"
   ]
  },
  {
   "cell_type": "code",
   "execution_count": 47,
   "id": "3ed0b20c-b062-4bf9-b58c-7f66505f74b0",
   "metadata": {},
   "outputs": [],
   "source": [
    "def zin(z0: Number, zl: Number, beta: Number, l: Number) -> Number:\n",
    "    tg = cmath.tan(beta * l)\n",
    "    den = z0 + 1j * zl * tg\n",
    "    num = z0 * (zl + 1j * z0 * tg)\n",
    "\n",
    "    return num/den\n",
    "\n",
    "def reflection_coefficient(z0: Number, zt: Number) -> Number:\n",
    "    num = zt - z0\n",
    "    den = zt + z0\n",
    "\n",
    "    return num/den\n",
    "\n",
    "def propagation_constant(R, L, G, C, w):\n",
    "    a = R + 1j * w * L\n",
    "    b = G + 1j * w * C\n",
    "\n",
    "    return cmath.sqrt(a*b)\n",
    "\n",
    "def atenuation(alpha, l):\n",
    "    return math.exp(-1 * alpha * l)\n",
    "\n",
    "def unit_to_db(value):\n",
    "    return 20 * math.log10(value)"
   ]
  },
  {
   "cell_type": "code",
   "execution_count": 49,
   "id": "57da1a79-e12d-445e-ae27-efd44c4c1b81",
   "metadata": {},
   "outputs": [
    {
     "name": "stdout",
     "output_type": "stream",
     "text": [
      "gama: (0.5391135357553036+8.01315439789067j)\n",
      "atenuation after 0.3 m is -1.4048042021872793 dB\n"
     ]
    }
   ],
   "source": [
    "R1 = 4\n",
    "L1 = 0.5 * 1e-6\n",
    "G1 = 0.02\n",
    "C1 = 200 * 1e-12\n",
    "w1 = 800 * 1e6\n",
    "\n",
    "gama1 = propagation_constant(R1, L1, G1, C1, w1)\n",
    "alpha1 = gama1.real\n",
    "\n",
    "l1 = 0.3\n",
    "atenuation1 = atenuation(alpha1, l1)\n",
    "atenuation1_db = unit_to_db(atenuation1)\n",
    "\n",
    "print(\"gama: \" + str(gama1))\n",
    "print(f'atenuation after {l1} m is {atenuation1_db} dB')"
   ]
  },
  {
   "cell_type": "code",
   "execution_count": null,
   "id": "f066e16b-7afc-4139-b60e-5d7c42fdb656",
   "metadata": {},
   "outputs": [],
   "source": []
  }
 ],
 "metadata": {
  "kernelspec": {
   "display_name": "Python 3 (ipykernel)",
   "language": "python",
   "name": "python3"
  },
  "language_info": {
   "codemirror_mode": {
    "name": "ipython",
    "version": 3
   },
   "file_extension": ".py",
   "mimetype": "text/x-python",
   "name": "python",
   "nbconvert_exporter": "python",
   "pygments_lexer": "ipython3",
   "version": "3.10.12"
  }
 },
 "nbformat": 4,
 "nbformat_minor": 5
}
