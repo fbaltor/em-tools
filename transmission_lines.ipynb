{
 "cells": [
  {
   "cell_type": "code",
   "execution_count": 3,
   "id": "254a42c2-e90d-49c4-a683-64503e7a01a6",
   "metadata": {},
   "outputs": [],
   "source": [
    "import matplotlib as mpl\n",
    "import matplotlib.pyplot as plt\n",
    "import numpy as np\n",
    "from numbers import Number\n",
    "import math, cmath"
   ]
  },
  {
   "cell_type": "code",
   "execution_count": 15,
   "id": "3ed0b20c-b062-4bf9-b58c-7f66505f74b0",
   "metadata": {},
   "outputs": [],
   "source": [
    "def zin_lossless(z0: Number, zl: Number, beta: Number, l: Number) -> Number:\n",
    "    tg = cmath.tan(beta * l)\n",
    "    num = z0 * (zl + 1j*z0*tg)\n",
    "    den = z0 + 1j*zl*tg\n",
    "    return num/den\n",
    "\n",
    "def zin_lossless(z0: Number, zl: Number, beta_times_l: Number) -> Number:\n",
    "    tg = cmath.tan(beta_times_l)\n",
    "    num = z0 * (zl + 1j*z0*tg)\n",
    "    den = z0 + 1j*zl*tg\n",
    "    return num/den\n",
    "\n",
    "def V_lossless(V0: Number, reflection_coefficient: Number, beta: Number, z: Number):\n",
    "    V = V0*(cmath.exp(-1j*beta*z) + reflection_coefficient*cmath.exp(1j*beta*z))\n",
    "    return V\n",
    "\n",
    "def I_lossless(V0: Number, Z0: Number, reflection_coefficient: Number, beta: Number, z: Number):\n",
    "    I = (V0/Z0)*(cmath.exp(-1j*beta*z) - reflection_coefficient*cmath.exp(1j*beta*z))\n",
    "    return I\n",
    "\n",
    "def reflection_coefficient(z0: Number, zt: Number) -> Number:\n",
    "    num = zt - z0\n",
    "    den = zt + z0\n",
    "    return num/den\n",
    "\n",
    "def propagation_constant(R, L, G, C, w):\n",
    "    a = R + 1j*w*L\n",
    "    b = G + 1j*w*C\n",
    "    return cmath.sqrt(a*b)\n",
    "\n",
    "def atenuation(alpha, l, in_db: False):\n",
    "    value = math.exp(-1 * alpha * l)\n",
    "    if in_db:\n",
    "        return -2 * math.log10(value)\n",
    "\n",
    "    return value\n",
    "\n",
    "def unit_to_db(value):\n",
    "    return 20 * math.log10(value)"
   ]
  },
  {
   "cell_type": "code",
   "execution_count": 16,
   "id": "57da1a79-e12d-445e-ae27-efd44c4c1b81",
   "metadata": {},
   "outputs": [
    {
     "ename": "TypeError",
     "evalue": "atenuation() missing 1 required positional argument: 'in_db'",
     "output_type": "error",
     "traceback": [
      "\u001b[0;31m---------------------------------------------------------------------------\u001b[0m",
      "\u001b[0;31mTypeError\u001b[0m                                 Traceback (most recent call last)",
      "Cell \u001b[0;32mIn[16], line 11\u001b[0m\n\u001b[1;32m      8\u001b[0m alpha1 \u001b[38;5;241m=\u001b[39m gama1\u001b[38;5;241m.\u001b[39mreal\n\u001b[1;32m     10\u001b[0m l1 \u001b[38;5;241m=\u001b[39m \u001b[38;5;241m0.3\u001b[39m\n\u001b[0;32m---> 11\u001b[0m atenuation1 \u001b[38;5;241m=\u001b[39m \u001b[43matenuation\u001b[49m\u001b[43m(\u001b[49m\u001b[43malpha1\u001b[49m\u001b[43m,\u001b[49m\u001b[43m \u001b[49m\u001b[43ml1\u001b[49m\u001b[43m)\u001b[49m\n\u001b[1;32m     12\u001b[0m atenuation1_db \u001b[38;5;241m=\u001b[39m atenuation(alpha1, l1, \u001b[38;5;28;01mTrue\u001b[39;00m)\n\u001b[1;32m     14\u001b[0m \u001b[38;5;28mprint\u001b[39m(\u001b[38;5;124m\"\u001b[39m\u001b[38;5;124mgama: \u001b[39m\u001b[38;5;124m\"\u001b[39m \u001b[38;5;241m+\u001b[39m \u001b[38;5;28mstr\u001b[39m(gama1))\n",
      "\u001b[0;31mTypeError\u001b[0m: atenuation() missing 1 required positional argument: 'in_db'"
     ]
    }
   ],
   "source": [
    "R1 = 4\n",
    "L1 = 0.5 * 1e-6\n",
    "G1 = 0.02\n",
    "C1 = 200 * 1e-12\n",
    "w1 = 800 * 1e6\n",
    "\n",
    "gama1 = propagation_constant(R1, L1, G1, C1, w1)\n",
    "alpha1 = gama1.real\n",
    "\n",
    "l1 = 0.3\n",
    "atenuation1 = atenuation(alpha1, l1)\n",
    "atenuation1_db = atenuation(alpha1, l1, True)\n",
    "\n",
    "print(\"gama: \" + str(gama1))\n",
    "print(f'atenuation after {l1} m is {atenuation1_db} dB')"
   ]
  },
  {
   "cell_type": "code",
   "execution_count": null,
   "id": "95b10ef7-165b-46c7-bc6b-26334d075444",
   "metadata": {},
   "outputs": [],
   "source": []
  }
 ],
 "metadata": {
  "kernelspec": {
   "display_name": "Python 3 (ipykernel)",
   "language": "python",
   "name": "python3"
  },
  "language_info": {
   "codemirror_mode": {
    "name": "ipython",
    "version": 3
   },
   "file_extension": ".py",
   "mimetype": "text/x-python",
   "name": "python",
   "nbconvert_exporter": "python",
   "pygments_lexer": "ipython3",
   "version": "3.10.12"
  }
 },
 "nbformat": 4,
 "nbformat_minor": 5
}
